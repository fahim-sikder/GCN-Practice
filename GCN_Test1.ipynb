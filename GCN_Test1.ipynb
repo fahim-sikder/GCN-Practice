{
 "cells": [
  {
   "cell_type": "code",
   "execution_count": 1,
   "metadata": {},
   "outputs": [],
   "source": [
    "import numpy as np\n",
    "import networkx as nx\n",
    "from networkx import (karate_club_graph, \n",
    "    to_numpy_matrix, \n",
    "    DiGraph, draw_networkx_nodes, \n",
    "    draw_networkx_labels, draw_networkx_edges, \n",
    "    spring_layout,\n",
    "    from_numpy_matrix)\n",
    "import matplotlib.pyplot as plt\n",
    "from pprint import pprint\n",
    "from scipy.linalg import fractional_matrix_power\n",
    "%matplotlib inline"
   ]
  },
  {
   "cell_type": "code",
   "execution_count": 2,
   "metadata": {},
   "outputs": [
    {
     "data": {
      "text/plain": [
       "matrix([[0., 1., 0., 0.],\n",
       "        [0., 0., 1., 1.],\n",
       "        [0., 1., 0., 0.],\n",
       "        [1., 0., 1., 0.]])"
      ]
     },
     "execution_count": 2,
     "metadata": {},
     "output_type": "execute_result"
    }
   ],
   "source": [
    "#graph creation\n",
    "\n",
    "A = np.matrix([[0,1,0,0],\n",
    "              [0,0,1,1],\n",
    "              [0,1,0,0],\n",
    "              [1,0,1,0]],dtype = float)\n",
    "\n",
    "A"
   ]
  },
  {
   "cell_type": "code",
   "execution_count": 3,
   "metadata": {},
   "outputs": [
    {
     "data": {
      "text/plain": [
       "{0: Text(-0.9878250592567736, 0.9984190710376709, '0'),\n",
       " 1: Text(-0.05595512732055146, -0.4249151105453773, '1'),\n",
       " 2: Text(0.8171062355294413, -1.0, '2'),\n",
       " 3: Text(0.22667395104788432, 0.426496039507706, '3')}"
      ]
     },
     "execution_count": 3,
     "metadata": {},
     "output_type": "execute_result"
    },
    {
     "data": {
      "image/png": "[encoded data removed]",
      "text/plain": [
       "<Figure size 432x288 with 1 Axes>"
      ]
     },
     "metadata": {
      "needs_background": "light"
     },
     "output_type": "display_data"
    }
   ],
   "source": [
    "G = from_numpy_matrix(A, create_using=DiGraph())\n",
    "pos = spring_layout(G)\n",
    "\n",
    "draw_networkx_nodes(G, pos, node_color='lightblue')\n",
    "draw_networkx_edges(G, pos, width=1, alpha =0.5)\n",
    "labels = dict(zip(G.nodes(), G.nodes()))\n",
    "draw_networkx_labels(G, pos, labels, font_size=12)"
   ]
  },
  {
   "cell_type": "code",
   "execution_count": null,
   "metadata": {},
   "outputs": [],
   "source": []
  },
  {
   "cell_type": "code",
   "execution_count": null,
   "metadata": {},
   "outputs": [],
   "source": []
  }
 ],
 "metadata": {
  "kernelspec": {
   "display_name": "Python 3",
   "language": "python",
   "name": "python3"
  },
  "language_info": {
   "codemirror_mode": {
    "name": "ipython",
    "version": 3
   },
   "file_extension": ".py",
   "mimetype": "text/x-python",
   "name": "python",
   "nbconvert_exporter": "python",
   "pygments_lexer": "ipython3",
   "version": "3.7.1"
  }
 },
 "nbformat": 4,
 "nbformat_minor": 2
}
